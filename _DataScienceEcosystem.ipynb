{
 "cells": [
  {
   "cell_type": "markdown",
   "id": "2cb725d9",
   "metadata": {},
   "source": [
    "# Data Science Tools and Ecosystem"
   ]
  },
  {
   "cell_type": "markdown",
   "id": "9116a037",
   "metadata": {},
   "source": [
    "## In this notebook, Data Science (DS) Tools and Ecosystem are summarized."
   ]
  },
  {
   "cell_type": "markdown",
   "id": "e59419ef",
   "metadata": {},
   "source": [
    "__Objectives__:\n",
    "- list of popular languages for DS\n",
    "- list of commonly used libraries\n",
    "- example of arithmetic expression"
   ]
  },
  {
   "cell_type": "markdown",
   "id": "cbe7e55f",
   "metadata": {},
   "source": [
    "### Some of the popular languages that Data Scientists use are:"
   ]
  },
  {
   "cell_type": "markdown",
   "id": "3b16956d",
   "metadata": {},
   "source": [
    "1. Python\n",
    "2. R\n",
    "3. SQL"
   ]
  },
  {
   "cell_type": "markdown",
   "id": "95f1c865",
   "metadata": {},
   "source": [
    "### Some of the commonly used libraries used by Data Scientists include:"
   ]
  },
  {
   "cell_type": "markdown",
   "id": "7106a633",
   "metadata": {},
   "source": [
    "1. pandas\n",
    "2. numpy\n",
    "3. scikit-learn\n",
    "4. ggplot2 (rstudio)"
   ]
  },
  {
   "cell_type": "markdown",
   "id": "185e40d0",
   "metadata": {},
   "source": [
    "| Data Science Tools |\n",
    "|:------------------:|\n",
    "|   Rstudio          |\n",
    "|   Jupyter Notebook |\n",
    "|   VS code          |\n"
   ]
  },
  {
   "cell_type": "markdown",
   "id": "cc4e1912",
   "metadata": {},
   "source": [
    "### Below are a few examples of evaluating arithmetic expressions in Python"
   ]
  },
  {
   "cell_type": "code",
   "execution_count": 4,
   "id": "ac38ac70",
   "metadata": {},
   "outputs": [
    {
     "data": {
      "text/plain": [
       "17"
      ]
     },
     "execution_count": 4,
     "metadata": {},
     "output_type": "execute_result"
    }
   ],
   "source": [
    "# This a simple arithmetic expression to mutiply then add integers\n",
    "(3*4)+5"
   ]
  },
  {
   "cell_type": "code",
   "execution_count": 9,
   "id": "13cd050d",
   "metadata": {},
   "outputs": [
    {
     "data": {
      "text/plain": [
       "3.33"
      ]
     },
     "execution_count": 9,
     "metadata": {},
     "output_type": "execute_result"
    }
   ],
   "source": [
    "# This will convert 200 minutes to hours by diving by 60\n",
    "round((200/60),2)"
   ]
  },
  {
   "cell_type": "markdown",
   "id": "e8b2d83c",
   "metadata": {},
   "source": [
    "## Author\n",
    "Federico Neri"
   ]
  }
 ],
 "metadata": {
  "kernelspec": {
   "display_name": "Python 3 (ipykernel)",
   "language": "python",
   "name": "python3"
  },
  "language_info": {
   "codemirror_mode": {
    "name": "ipython",
    "version": 3
   },
   "file_extension": ".py",
   "mimetype": "text/x-python",
   "name": "python",
   "nbconvert_exporter": "python",
   "pygments_lexer": "ipython3",
   "version": "3.11.5"
  }
 },
 "nbformat": 4,
 "nbformat_minor": 5
}
